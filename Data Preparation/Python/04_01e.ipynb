{
 "cells": [
  {
   "cell_type": "markdown",
   "metadata": {},
   "source": [
    "# Data Preparation"
   ]
  },
  {
   "cell_type": "markdown",
   "metadata": {},
   "source": [
    "## Handling missing values"
   ]
  },
  {
   "cell_type": "markdown",
   "metadata": {},
   "source": [
    "##### Identify missing Data"
   ]
  },
  {
   "cell_type": "code",
   "execution_count": 1,
   "metadata": {},
   "outputs": [
    {
     "data": {
      "text/html": [
       "<div>\n",
       "<style scoped>\n",
       "    .dataframe tbody tr th:only-of-type {\n",
       "        vertical-align: middle;\n",
       "    }\n",
       "\n",
       "    .dataframe tbody tr th {\n",
       "        vertical-align: top;\n",
       "    }\n",
       "\n",
       "    .dataframe thead th {\n",
       "        text-align: right;\n",
       "    }\n",
       "</style>\n",
       "<table border=\"1\" class=\"dataframe\">\n",
       "  <thead>\n",
       "    <tr style=\"text-align: right;\">\n",
       "      <th></th>\n",
       "      <th>Student_ID</th>\n",
       "      <th>Name</th>\n",
       "      <th>Age</th>\n",
       "      <th>Math_Score</th>\n",
       "      <th>Science_Score</th>\n",
       "      <th>English_Score</th>\n",
       "      <th>Address</th>\n",
       "      <th>Zip_Code</th>\n",
       "    </tr>\n",
       "  </thead>\n",
       "  <tbody>\n",
       "    <tr>\n",
       "      <th>0</th>\n",
       "      <td>1001</td>\n",
       "      <td>Grace</td>\n",
       "      <td>20</td>\n",
       "      <td>70.0</td>\n",
       "      <td>95.0</td>\n",
       "      <td>80.0</td>\n",
       "      <td>135 Maple St</td>\n",
       "      <td>23456.0</td>\n",
       "    </tr>\n",
       "    <tr>\n",
       "      <th>1</th>\n",
       "      <td>1002</td>\n",
       "      <td>David</td>\n",
       "      <td>22</td>\n",
       "      <td>70.0</td>\n",
       "      <td>100.0</td>\n",
       "      <td>85.0</td>\n",
       "      <td>NaN</td>\n",
       "      <td>34567.0</td>\n",
       "    </tr>\n",
       "    <tr>\n",
       "      <th>2</th>\n",
       "      <td>1003</td>\n",
       "      <td>Hannah</td>\n",
       "      <td>23</td>\n",
       "      <td>100.0</td>\n",
       "      <td>100.0</td>\n",
       "      <td>75.0</td>\n",
       "      <td>456 Oak St</td>\n",
       "      <td>56789.0</td>\n",
       "    </tr>\n",
       "    <tr>\n",
       "      <th>3</th>\n",
       "      <td>1004</td>\n",
       "      <td>Eve</td>\n",
       "      <td>23</td>\n",
       "      <td>70.0</td>\n",
       "      <td>85.0</td>\n",
       "      <td>95.0</td>\n",
       "      <td>975 Walnut St</td>\n",
       "      <td>23456.0</td>\n",
       "    </tr>\n",
       "    <tr>\n",
       "      <th>4</th>\n",
       "      <td>1005</td>\n",
       "      <td>Grace</td>\n",
       "      <td>22</td>\n",
       "      <td>70.0</td>\n",
       "      <td>80.0</td>\n",
       "      <td>90.0</td>\n",
       "      <td>789 Pine St</td>\n",
       "      <td>56789.0</td>\n",
       "    </tr>\n",
       "  </tbody>\n",
       "</table>\n",
       "</div>"
      ],
      "text/plain": [
       "   Student_ID    Name  Age  Math_Score  Science_Score  English_Score  \\\n",
       "0        1001   Grace   20        70.0           95.0           80.0   \n",
       "1        1002   David   22        70.0          100.0           85.0   \n",
       "2        1003  Hannah   23       100.0          100.0           75.0   \n",
       "3        1004     Eve   23        70.0           85.0           95.0   \n",
       "4        1005   Grace   22        70.0           80.0           90.0   \n",
       "\n",
       "         Address  Zip_Code  \n",
       "0   135 Maple St   23456.0  \n",
       "1            NaN   34567.0  \n",
       "2     456 Oak St   56789.0  \n",
       "3  975 Walnut St   23456.0  \n",
       "4    789 Pine St   56789.0  "
      ]
     },
     "execution_count": 1,
     "metadata": {},
     "output_type": "execute_result"
    }
   ],
   "source": [
    "import pandas as pd \n",
    "\n",
    "df = pd.read_csv(\"../data/students.csv\") \n",
    "df.head()\n"
   ]
  },
  {
   "cell_type": "code",
   "execution_count": 2,
   "metadata": {},
   "outputs": [
    {
     "name": "stdout",
     "output_type": "stream",
     "text": [
      "     Student_ID   Name    Age  Math_Score  Science_Score  English_Score  \\\n",
      "0         False  False  False       False          False          False   \n",
      "1         False  False  False       False          False          False   \n",
      "2         False  False  False       False          False          False   \n",
      "3         False  False  False       False          False          False   \n",
      "4         False  False  False       False          False          False   \n",
      "..          ...    ...    ...         ...            ...            ...   \n",
      "995       False  False  False       False          False          False   \n",
      "996       False  False  False       False          False           True   \n",
      "997       False  False  False       False          False          False   \n",
      "998       False  False  False       False          False          False   \n",
      "999       False  False  False       False          False          False   \n",
      "\n",
      "     Address  Zip_Code  \n",
      "0      False     False  \n",
      "1       True     False  \n",
      "2      False     False  \n",
      "3      False     False  \n",
      "4      False     False  \n",
      "..       ...       ...  \n",
      "995     True     False  \n",
      "996    False     False  \n",
      "997    False     False  \n",
      "998    False      True  \n",
      "999    False     False  \n",
      "\n",
      "[1000 rows x 8 columns]\n"
     ]
    }
   ],
   "source": [
    "missing_mask = df.isnull() \n",
    "print(missing_mask)"
   ]
  },
  {
   "cell_type": "markdown",
   "metadata": {},
   "source": [
    "##### Identify rows with missing values"
   ]
  },
  {
   "cell_type": "code",
   "execution_count": 3,
   "metadata": {},
   "outputs": [
    {
     "name": "stdout",
     "output_type": "stream",
     "text": [
      "     Student_ID     Name  Age  Math_Score  Science_Score  English_Score  \\\n",
      "1          1002    David   22        70.0          100.0           85.0   \n",
      "6          1007  Charlie   23        85.0           95.0           70.0   \n",
      "7          1008    Grace   23         NaN           80.0           80.0   \n",
      "8          1009   Hannah   23        80.0            NaN            NaN   \n",
      "9          1010      Eve   23        90.0           95.0            NaN   \n",
      "..          ...      ...  ...         ...            ...            ...   \n",
      "993        1994   Hannah   21        70.0           95.0           75.0   \n",
      "994        1995    Grace   22        90.0           75.0           75.0   \n",
      "995        1996    Julia   21        90.0           90.0           70.0   \n",
      "996        1997    Julia   21        95.0           75.0            NaN   \n",
      "998        1999      Bob   21        95.0           90.0           95.0   \n",
      "\n",
      "           Address  Zip_Code  \n",
      "1              NaN   34567.0  \n",
      "6     246 Cedar St       NaN  \n",
      "7              NaN   45678.0  \n",
      "8    975 Walnut St   45678.0  \n",
      "9              NaN   67890.0  \n",
      "..             ...       ...  \n",
      "993            NaN   67890.0  \n",
      "994            NaN       NaN  \n",
      "995            NaN   34567.0  \n",
      "996   246 Cedar St   12345.0  \n",
      "998     123 Elm St       NaN  \n",
      "\n",
      "[550 rows x 8 columns]\n"
     ]
    }
   ],
   "source": [
    "rows_with_missing = df[missing_mask.any(axis=1)] \n",
    "print(rows_with_missing)"
   ]
  },
  {
   "cell_type": "markdown",
   "metadata": {},
   "source": [
    "##### Dropping Rows with Missing Values"
   ]
  },
  {
   "cell_type": "code",
   "execution_count": 4,
   "metadata": {},
   "outputs": [
    {
     "name": "stdout",
     "output_type": "stream",
     "text": [
      "     Student_ID    Name  Age  Math_Score  Science_Score  English_Score  \\\n",
      "0          1001   Grace   20        70.0           95.0           80.0   \n",
      "2          1003  Hannah   23       100.0          100.0           75.0   \n",
      "3          1004     Eve   23        70.0           85.0           95.0   \n",
      "4          1005   Grace   22        70.0           80.0           90.0   \n",
      "5          1006   Julia   23       100.0           95.0           80.0   \n",
      "..          ...     ...  ...         ...            ...            ...   \n",
      "987        1988     Eve   20       100.0           75.0           90.0   \n",
      "988        1989   David   21       100.0           95.0           85.0   \n",
      "990        1991  Hannah   20        85.0           90.0           75.0   \n",
      "997        1998  Hannah   22        90.0           90.0           80.0   \n",
      "999        2000    Ivan   21        95.0           75.0           80.0   \n",
      "\n",
      "           Address  Zip_Code  \n",
      "0     135 Maple St   23456.0  \n",
      "2       456 Oak St   56789.0  \n",
      "3    975 Walnut St   23456.0  \n",
      "4      789 Pine St   56789.0  \n",
      "5       123 Elm St   12345.0  \n",
      "..             ...       ...  \n",
      "987   135 Maple St   56789.0  \n",
      "988     123 Elm St   56789.0  \n",
      "990     456 Oak St   45678.0  \n",
      "997     123 Elm St   56789.0  \n",
      "999   135 Maple St   34567.0  \n",
      "\n",
      "[450 rows x 8 columns]\n"
     ]
    }
   ],
   "source": [
    "df_dropped_rows = df.dropna() \n",
    "print(df_dropped_rows)"
   ]
  },
  {
   "cell_type": "markdown",
   "metadata": {},
   "source": [
    "##### Dropping Rows with Missing Values in Specific Columns"
   ]
  },
  {
   "cell_type": "code",
   "execution_count": 5,
   "metadata": {},
   "outputs": [
    {
     "name": "stdout",
     "output_type": "stream",
     "text": [
      "     Student_ID    Name  Age  Math_Score  Science_Score  English_Score  \\\n",
      "0          1001   Grace   20        70.0           95.0           80.0   \n",
      "1          1002   David   22        70.0          100.0           85.0   \n",
      "2          1003  Hannah   23       100.0          100.0           75.0   \n",
      "3          1004     Eve   23        70.0           85.0           95.0   \n",
      "4          1005   Grace   22        70.0           80.0           90.0   \n",
      "..          ...     ...  ...         ...            ...            ...   \n",
      "995        1996   Julia   21        90.0           90.0           70.0   \n",
      "996        1997   Julia   21        95.0           75.0            NaN   \n",
      "997        1998  Hannah   22        90.0           90.0           80.0   \n",
      "998        1999     Bob   21        95.0           90.0           95.0   \n",
      "999        2000    Ivan   21        95.0           75.0           80.0   \n",
      "\n",
      "           Address  Zip_Code  \n",
      "0     135 Maple St   23456.0  \n",
      "1              NaN   34567.0  \n",
      "2       456 Oak St   56789.0  \n",
      "3    975 Walnut St   23456.0  \n",
      "4      789 Pine St   56789.0  \n",
      "..             ...       ...  \n",
      "995            NaN   34567.0  \n",
      "996   246 Cedar St   12345.0  \n",
      "997     123 Elm St   56789.0  \n",
      "998     123 Elm St       NaN  \n",
      "999   135 Maple St   34567.0  \n",
      "\n",
      "[743 rows x 8 columns]\n"
     ]
    }
   ],
   "source": [
    "df_dropped_specific = df.dropna(subset=['Math_Score', 'Science_Score']) \n",
    "print(df_dropped_specific)"
   ]
  },
  {
   "cell_type": "markdown",
   "metadata": {},
   "source": [
    "##### Dropping Columns with Missing Values"
   ]
  },
  {
   "cell_type": "code",
   "execution_count": 6,
   "metadata": {},
   "outputs": [
    {
     "name": "stdout",
     "output_type": "stream",
     "text": [
      "     Student_ID    Name  Age\n",
      "0          1001   Grace   20\n",
      "1          1002   David   22\n",
      "2          1003  Hannah   23\n",
      "3          1004     Eve   23\n",
      "4          1005   Grace   22\n",
      "..          ...     ...  ...\n",
      "995        1996   Julia   21\n",
      "996        1997   Julia   21\n",
      "997        1998  Hannah   22\n",
      "998        1999     Bob   21\n",
      "999        2000    Ivan   21\n",
      "\n",
      "[1000 rows x 3 columns]\n"
     ]
    }
   ],
   "source": [
    "df_dropped_columns = df.dropna(axis=1)\n",
    "print(df_dropped_columns)"
   ]
  },
  {
   "cell_type": "markdown",
   "metadata": {},
   "source": [
    "##### Dropping Columns with the Highest Number of Missing Values"
   ]
  },
  {
   "cell_type": "code",
   "execution_count": 7,
   "metadata": {},
   "outputs": [
    {
     "name": "stdout",
     "output_type": "stream",
     "text": [
      "     Student_ID    Name  Age  Math_Score  Science_Score  English_Score  \\\n",
      "0          1001   Grace   20        70.0           95.0           80.0   \n",
      "1          1002   David   22        70.0          100.0           85.0   \n",
      "2          1003  Hannah   23       100.0          100.0           75.0   \n",
      "3          1004     Eve   23        70.0           85.0           95.0   \n",
      "4          1005   Grace   22        70.0           80.0           90.0   \n",
      "..          ...     ...  ...         ...            ...            ...   \n",
      "995        1996   Julia   21        90.0           90.0           70.0   \n",
      "996        1997   Julia   21        95.0           75.0            NaN   \n",
      "997        1998  Hannah   22        90.0           90.0           80.0   \n",
      "998        1999     Bob   21        95.0           90.0           95.0   \n",
      "999        2000    Ivan   21        95.0           75.0           80.0   \n",
      "\n",
      "           Address  \n",
      "0     135 Maple St  \n",
      "1              NaN  \n",
      "2       456 Oak St  \n",
      "3    975 Walnut St  \n",
      "4      789 Pine St  \n",
      "..             ...  \n",
      "995            NaN  \n",
      "996   246 Cedar St  \n",
      "997     123 Elm St  \n",
      "998     123 Elm St  \n",
      "999   135 Maple St  \n",
      "\n",
      "[1000 rows x 7 columns]\n"
     ]
    }
   ],
   "source": [
    "missing_counts = df.isnull().sum()\n",
    "column_to_drop = missing_counts.idxmax()\n",
    "df_dropped_highest_missing = df.drop(columns=[column_to_drop])\n",
    "print(df_dropped_highest_missing)"
   ]
  },
  {
   "cell_type": "markdown",
   "metadata": {},
   "source": [
    "### Imputations"
   ]
  },
  {
   "cell_type": "code",
   "execution_count": null,
   "metadata": {},
   "outputs": [],
   "source": [
    "# create a copy of the original DataFrame to work with \n",
    "df_imputed = df.copy() \n",
    "print(df_imputed.head())"
   ]
  },
  {
   "cell_type": "markdown",
   "metadata": {},
   "source": [
    "##### Mode Imputation"
   ]
  },
  {
   "cell_type": "code",
   "execution_count": null,
   "metadata": {},
   "outputs": [],
   "source": [
    "# Fill missing 'Name' values with the most common name\n",
    "most_common_name = df_imputed['Name'].mode()[0]\n",
    "df_imputed['Name'].fillna(most_common_name, inplace=True)\n",
    "print(df_imputed['Name'].value_counts())"
   ]
  },
  {
   "cell_type": "markdown",
   "metadata": {},
   "source": [
    "##### Mean Imputation"
   ]
  },
  {
   "cell_type": "code",
   "execution_count": null,
   "metadata": {},
   "outputs": [],
   "source": [
    "# Fill missing 'Age' values with the mean age\n",
    "mean_age = df_imputed['Age'].mean()\n",
    "df_imputed['Age'].fillna(mean_age, inplace=True)\n",
    "print(df_imputed['Age'].describe())"
   ]
  },
  {
   "cell_type": "markdown",
   "metadata": {},
   "source": [
    "##### Conditional imputation"
   ]
  },
  {
   "cell_type": "code",
   "execution_count": null,
   "metadata": {},
   "outputs": [],
   "source": [
    "# Fill missing 'Zip_Code' values based on 'Address'\n",
    "address_zip_mapping = {\n",
    "    '123 Elm St': 12345,\n",
    "    '456 Oak St': 23456,\n",
    "    '789 Pine St': 34567,\n",
    "    '135 Maple St': 45678,\n",
    "    '246 Cedar St': 56789,\n",
    "    '975 Walnut St': 67890\n",
    "}\n",
    "\n",
    "# Impute missing Zip_Code values conditionally\n",
    "df_imputed['Zip_Code'] = df_imputed.apply(\n",
    "    lambda row: address_zip_mapping.get(row['Address'], row['Zip_Code']) if pd.isnull(row['Zip_Code']) else row['Zip_Code'], \n",
    "    axis=1\n",
    ")\n",
    "print(df_imputed[['Address', 'Zip_Code']].drop_duplicates())"
   ]
  },
  {
   "cell_type": "markdown",
   "metadata": {},
   "source": [
    "##### KNN Imputation"
   ]
  },
  {
   "cell_type": "code",
   "execution_count": null,
   "metadata": {},
   "outputs": [],
   "source": [
    "from sklearn.impute import KNNImputer\n",
    "\n",
    "# We need to select the columns we want to apply KNN Imputation to\n",
    "columns_to_impute = ['Age', 'Math_Score', 'Science_Score', 'English_Score', 'Zip_Code']\n",
    "\n",
    "# Initialize the KNN Imputer\n",
    "knn_imputer = KNNImputer(n_neighbors=5)\n",
    "\n",
    "# Apply KNN Imputation on the selected columns\n",
    "df_imputed_knn = df_imputed.copy()\n",
    "df_imputed_knn[columns_to_impute] = knn_imputer.fit_transform(df_imputed[columns_to_impute])\n",
    "\n",
    "print(df_imputed_knn.head())\n"
   ]
  },
  {
   "cell_type": "code",
   "execution_count": null,
   "metadata": {},
   "outputs": [],
   "source": [
    "print(df_imputed_knn[columns_to_impute].head(10))"
   ]
  },
  {
   "cell_type": "markdown",
   "metadata": {},
   "source": []
  }
 ],
 "metadata": {
  "kernelspec": {
   "display_name": "Python 3",
   "language": "python",
   "name": "python3"
  },
  "language_info": {
   "codemirror_mode": {
    "name": "ipython",
    "version": 3
   },
   "file_extension": ".py",
   "mimetype": "text/x-python",
   "name": "python",
   "nbconvert_exporter": "python",
   "pygments_lexer": "ipython3",
   "version": "3.10.4"
  }
 },
 "nbformat": 4,
 "nbformat_minor": 2
}
